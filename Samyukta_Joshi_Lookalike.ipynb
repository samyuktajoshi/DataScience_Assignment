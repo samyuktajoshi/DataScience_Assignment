{
  "nbformat": 4,
  "nbformat_minor": 0,
  "metadata": {
    "colab": {
      "provenance": []
    },
    "kernelspec": {
      "name": "python3",
      "display_name": "Python 3"
    },
    "language_info": {
      "name": "python"
    }
  },
  "cells": [
    {
      "cell_type": "code",
      "source": [
        "from google.colab import drive\n",
        "drive.mount('/content/drive')"
      ],
      "metadata": {
        "colab": {
          "base_uri": "https://localhost:8080/"
        },
        "id": "zFGkeftRjn2r",
        "outputId": "995f9684-8901-40c8-b420-46c965c151fc"
      },
      "execution_count": null,
      "outputs": [
        {
          "output_type": "stream",
          "name": "stdout",
          "text": [
            "Mounted at /content/drive\n"
          ]
        }
      ]
    },
    {
      "cell_type": "code",
      "source": [
        "from google.colab import drive\n",
        "drive.mount('/content/drive')\n",
        "import pandas as pd\n",
        "from sklearn.metrics.pairwise import cosine_similarity\n",
        "\n",
        "# Load datasets\n",
        "customers = pd.read_csv(\"/content/drive/MyDrive/Datasets/Customers.csv\")\n",
        "products = pd.read_csv(\"/content/drive/MyDrive/Datasets/Products.csv\")\n",
        "transactions = pd.read_csv(\"/content/drive/MyDrive/Datasets/Transactions.csv\")\n",
        "\n",
        "# Merge datasets\n",
        "merged_data = transactions.merge(customers, on='CustomerID').merge(products, on='ProductID')\n",
        "\n",
        "# Create a pivot table for customer-product purchase quantity\n",
        "customer_product_matrix = pd.pivot_table(\n",
        "    merged_data,\n",
        "    values='Quantity',\n",
        "    index='CustomerID',\n",
        "    columns='ProductID',\n",
        "    fill_value=0\n",
        ")\n",
        "\n",
        "# Compute cosine similarity between customers\n",
        "similarity_matrix = cosine_similarity(customer_product_matrix)\n",
        "\n",
        "# Create a similarity DataFrame\n",
        "similarity_df = pd.DataFrame(\n",
        "    similarity_matrix,\n",
        "    index=customer_product_matrix.index,\n",
        "    columns=customer_product_matrix.index\n",
        ")\n",
        "\n",
        "# Generate Lookalike recommendations for the first 20 customers\n",
        "lookalikes = {}\n",
        "for customer_id in customers['CustomerID'][:20]:  # First 20 customers\n",
        "    if customer_id in similarity_df.index:\n",
        "        # Get the top 3 similar customers (excluding the customer themselves)\n",
        "        top_similar = similarity_df[customer_id].sort_values(ascending=False)[1:4]\n",
        "        # Create a list of tuples (customer_id, similarity_score)\n",
        "        lookalikes[customer_id] = list(zip(top_similar.index, top_similar.values))\n",
        "\n",
        "# Save the results in the specified format\n",
        "lookalike_df = pd.DataFrame.from_dict(lookalikes, orient='index')\n",
        "\n",
        "# Save to a CSV file, where each row is a customer with their lookalike list and similarity scores\n",
        "lookalike_df.to_csv(\"Lookalike.csv\", header=False, index_label=\"CustomerID\")\n",
        "\n",
        "print(\"Lookalike recommendations with similarity scores have been saved to Lookalike.csv\")"
      ],
      "metadata": {
        "colab": {
          "base_uri": "https://localhost:8080/"
        },
        "id": "HL7ipjBikANM",
        "outputId": "dbc7fcc0-3e84-43fa-c48a-5e354510d2b9"
      },
      "execution_count": null,
      "outputs": [
        {
          "output_type": "stream",
          "name": "stdout",
          "text": [
            "Drive already mounted at /content/drive; to attempt to forcibly remount, call drive.mount(\"/content/drive\", force_remount=True).\n",
            "Lookalike recommendations with similarity scores have been saved to Lookalike.csv\n"
          ]
        }
      ]
    },
    {
      "cell_type": "code",
      "source": [
        "from google.colab import files\n",
        "\n",
        "# Download the CSV file\n",
        "files.download('Lookalike.csv')"
      ],
      "metadata": {
        "colab": {
          "base_uri": "https://localhost:8080/",
          "height": 17
        },
        "id": "v3YCogGmkni8",
        "outputId": "1f0aba79-7197-4d31-ab6c-261e6a43b268"
      },
      "execution_count": null,
      "outputs": [
        {
          "output_type": "display_data",
          "data": {
            "text/plain": [
              "<IPython.core.display.Javascript object>"
            ],
            "application/javascript": [
              "\n",
              "    async function download(id, filename, size) {\n",
              "      if (!google.colab.kernel.accessAllowed) {\n",
              "        return;\n",
              "      }\n",
              "      const div = document.createElement('div');\n",
              "      const label = document.createElement('label');\n",
              "      label.textContent = `Downloading \"${filename}\": `;\n",
              "      div.appendChild(label);\n",
              "      const progress = document.createElement('progress');\n",
              "      progress.max = size;\n",
              "      div.appendChild(progress);\n",
              "      document.body.appendChild(div);\n",
              "\n",
              "      const buffers = [];\n",
              "      let downloaded = 0;\n",
              "\n",
              "      const channel = await google.colab.kernel.comms.open(id);\n",
              "      // Send a message to notify the kernel that we're ready.\n",
              "      channel.send({})\n",
              "\n",
              "      for await (const message of channel.messages) {\n",
              "        // Send a message to notify the kernel that we're ready.\n",
              "        channel.send({})\n",
              "        if (message.buffers) {\n",
              "          for (const buffer of message.buffers) {\n",
              "            buffers.push(buffer);\n",
              "            downloaded += buffer.byteLength;\n",
              "            progress.value = downloaded;\n",
              "          }\n",
              "        }\n",
              "      }\n",
              "      const blob = new Blob(buffers, {type: 'application/binary'});\n",
              "      const a = document.createElement('a');\n",
              "      a.href = window.URL.createObjectURL(blob);\n",
              "      a.download = filename;\n",
              "      div.appendChild(a);\n",
              "      a.click();\n",
              "      div.remove();\n",
              "    }\n",
              "  "
            ]
          },
          "metadata": {}
        },
        {
          "output_type": "display_data",
          "data": {
            "text/plain": [
              "<IPython.core.display.Javascript object>"
            ],
            "application/javascript": [
              "download(\"download_2b27ecc3-1647-4542-9013-5de06840fb7f\", \"Lookalike.csv\", 2051)"
            ]
          },
          "metadata": {}
        }
      ]
    }
  ]
}